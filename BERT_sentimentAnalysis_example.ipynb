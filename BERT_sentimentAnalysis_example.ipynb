{
 "cells": [
  {
   "cell_type": "code",
   "execution_count": 16,
   "id": "a9030594-95e4-4cbb-b855-1cab3978f1bf",
   "metadata": {},
   "outputs": [],
   "source": [
    "!pip install transformers torch --quiet"
   ]
  },
  {
   "cell_type": "code",
   "execution_count": 17,
   "id": "e60aceb3-deb5-4f1d-8175-35b70c7f3dd8",
   "metadata": {},
   "outputs": [
    {
     "name": "stderr",
     "output_type": "stream",
     "text": [
      "Device set to use cpu\n"
     ]
    }
   ],
   "source": [
    "from transformers import pipeline\n",
    "import matplotlib.pyplot as plt\n",
    "\n",
    "try:\n",
    "    sentiment_analyzer = pipeline(\n",
    "        \"sentiment-analysis\", \n",
    "        model=\"WhitePeak/bert-base-cased-Korean-sentiment\"\n",
    "    )\n",
    "except Exception as e:\n",
    "    print(f\"모델 로드 오류: {e}\\n인터넷 연결을 확인해 주세요!\")"
   ]
  },
  {
   "cell_type": "code",
   "execution_count": 18,
   "id": "2e27db8f-3307-4465-8b9d-ce0bde125b31",
   "metadata": {},
   "outputs": [
    {
     "name": "stdout",
     "output_type": "stream",
     "text": [
      "분석 결과:\n",
      "- 텍스트: 재구매 의사 있습니다.\n",
      "- 레이블: LABEL_1\n",
      "- 신뢰도: 0.89\n"
     ]
    }
   ],
   "source": [
    "sample_review = \"재구매 의사 있습니다.\"\n",
    "result = sentiment_analyzer(sample_review)\n",
    "\n",
    "print(\"분석 결과:\")\n",
    "print(f\"- 텍스트: {sample_review}\")\n",
    "print(f\"- 레이블: {result[0]['label']}\")\n",
    "print(f\"- 신뢰도: {result[0]['score']:.2f}\")"
   ]
  },
  {
   "cell_type": "code",
   "execution_count": 19,
   "id": "1f30d217-1325-486a-be8b-97abf7ddd147",
   "metadata": {},
   "outputs": [
    {
     "name": "stdout",
     "output_type": "stream",
     "text": [
      "분석 결과:\n",
      "- 텍스트: 기대했는데 실망했습니다.\n",
      "- 레이블: LABEL_0\n",
      "- 신뢰도: 1.00\n"
     ]
    }
   ],
   "source": [
    "sample_review = \"기대했는데 실망했습니다.\"\n",
    "result = sentiment_analyzer(sample_review)\n",
    "\n",
    "print(\"분석 결과:\")\n",
    "print(f\"- 텍스트: {sample_review}\")\n",
    "print(f\"- 레이블: {result[0]['label']}\")\n",
    "print(f\"- 신뢰도: {result[0]['score']:.2f}\")"
   ]
  }
 ],
 "metadata": {
  "kernelspec": {
   "display_name": "Python 3 (ipykernel)",
   "language": "python",
   "name": "python3"
  },
  "language_info": {
   "codemirror_mode": {
    "name": "ipython",
    "version": 3
   },
   "file_extension": ".py",
   "mimetype": "text/x-python",
   "name": "python",
   "nbconvert_exporter": "python",
   "pygments_lexer": "ipython3",
   "version": "3.13.3"
  }
 },
 "nbformat": 4,
 "nbformat_minor": 5
}
